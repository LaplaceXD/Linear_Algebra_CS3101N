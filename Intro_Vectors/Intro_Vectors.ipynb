{
 "cells": [
  {
   "cell_type": "markdown",
   "metadata": {},
   "source": [
    "# Introduction to Vectors\n",
    "---"
   ]
  },
  {
   "cell_type": "markdown",
   "metadata": {},
   "source": [
    "## Proof for Cosine Similarity Bounds\n",
    "\n",
    "**Task**: Show that $-1 \\leq \\frac{\\textbf{u} \\cdotp \\textbf{v}}{||\\textbf{u}||\\ ||\\textbf{v}||} \\leq 1$.\n",
    "\n",
    "**Proof**:\n",
    "Let $(\\textbf{x}, \\textbf{y})$ be a point lying on the unit circle defined as ${\\textbf{x}}^{2} + {\\textbf{y}}^{2} = 1$. <br>\n",
    "\n",
    "From this definition, we can derive two things: <br>\n",
    "(i) $-1 \\leq \\textbf{x}, \\textbf{y} \\leq 1$ <br>\n",
    "> ${\\textbf{x}}^{2}$ and ${\\textbf{y}}^{2}$ are squares, which means $0 \\leq {\\textbf{x}}^{2}, {\\textbf{y}}^{2}$. Additionally, ${\\textbf{x}}^{2}$, ${\\textbf{y}}^{2} \\leq 1$ since the components must satisfy the definition of a unit circle ${\\textbf{x}}^{2} + {\\textbf{y}}^{2} = 1$. This means that their bounds are defined as $0 \\leq {\\textbf{x}}^{2}, {\\textbf{y}}^{2} \\leq 1$, which can be transformed to $-1 \\leq \\textbf{x}, \\textbf{y} \\leq 1$. <br>\n",
    "\n",
    "(ii) $cos\\ \\theta = \\textbf{x}$\n",
    "> A right triangle can be formed on the unit circle with points $(0, 0)$, $(\\textbf{x}, 0)$, and $(\\textbf{x}, \\textbf{y})$. For a given angle measure $\\theta$ centered at the origin, it can be derived that $cos\\ \\theta = \\frac{\\textbf{x}}{1}$, since the adjacent leg has a length of $\\textbf{x}$, and the hypotenuse is equal to the radius of the unit circle which is $1$. Simplifying the equation, it can be shown that that $cos\\ \\theta = \\textbf{x}$.\n",
    "\n",
    "From the derivations, the following can then be shown:\n",
    "$$\n",
    "\\begin{align}\n",
    "-1 \\leq \\textbf{x} \\leq 1 &&\\text{by (i)}\\\\\n",
    "-1 \\leq cos\\ \\theta \\leq 1 &&\\text{by substitution of (ii)}\\\\\n",
    "-1 \\leq \\frac{\\textbf{u} \\cdotp \\textbf{v}}{||\\textbf{u}||\\ ||\\textbf{v}||} \\leq 1 &&\\text{by definition of cosine similarity}\n",
    "\\end{align}\n",
    "$$\n",
    "\n",
    "$\\therefore,\\ -1 \\leq \\frac{\\textbf{u} \\cdotp \\textbf{v}}{||\\textbf{u}||\\ ||\\textbf{v}||} \\leq 1.\\ \\blacksquare$"
   ]
  },
  {
   "cell_type": "markdown",
   "metadata": {},
   "source": [
    "## Assignment"
   ]
  },
  {
   "cell_type": "markdown",
   "metadata": {},
   "source": [
    "1. Let $\\textbf{u} = (1, -2, 4)$, $\\textbf{v} = (3, 5, 1)$, and $\\textbf{w} = (2, 1, -3)$ find:"
   ]
  },
  {
   "cell_type": "markdown",
   "metadata": {},
   "source": [
    "a. $3\\textbf{u} - 2\\textbf{v}$\n",
    "\n",
    "**Manual Solution**\n",
    "$$\n",
    "\\begin{align}\n",
    "    3\\textbf{u} - 2\\textbf{v} &= 3(1, -2, 4) - 2(3, 5, 1) \\\\\n",
    "        &= (3, -6, 12) - (6, 10, 2) \\\\\n",
    "        &= (-3, -16, 10)\n",
    "\\end{align}\n",
    "$$\n",
    "\n",
    "**Pythonic Solution**"
   ]
  },
  {
   "cell_type": "code",
   "execution_count": 6,
   "metadata": {},
   "outputs": [
    {
     "name": "stdout",
     "output_type": "stream",
     "text": [
      "3u - 2v = [ -3 -16  10]\n"
     ]
    }
   ],
   "source": [
    "import numpy as np\n",
    "\n",
    "u = np.array([1, -2, 4])\n",
    "v = np.array([3, 5, 1])\n",
    "\n",
    "print(\"3u - 2v =\", 3*u - 2*v)"
   ]
  },
  {
   "cell_type": "markdown",
   "metadata": {},
   "source": [
    "b. $5\\textbf{u} + 3\\textbf{v} - 4\\textbf{w}$\n",
    "\n",
    "**Manual Solution**\n",
    "$$\n",
    "\\begin{align}\n",
    "    5\\textbf{u} + 3\\textbf{v} - 4\\textbf{w} &= 5(1, -2, 4) + 3(3, 5, 1) - 4(2, 1, -3) \\\\\n",
    "        &= (5, -10, 20) + (9, 15, 3) - (8, 4, -12) \\\\\n",
    "        &= (6, 1, 35)\n",
    "\\end{align}\n",
    "$$\n",
    "\n",
    "**Pythonic Solution**"
   ]
  },
  {
   "cell_type": "code",
   "execution_count": 7,
   "metadata": {},
   "outputs": [
    {
     "name": "stdout",
     "output_type": "stream",
     "text": [
      "5u + 3v - 4w = [ 6  1 35]\n"
     ]
    }
   ],
   "source": [
    "import numpy as np\n",
    "\n",
    "u = np.array([1, -2, 4])\n",
    "v = np.array([3, 5, 1])\n",
    "w = np.array([2, 1, -3])\n",
    "\n",
    "print(\"5u + 3v - 4w =\", 5*u + 3*v - 4*w)"
   ]
  },
  {
   "cell_type": "markdown",
   "metadata": {},
   "source": [
    "c. $\\textbf{u} \\cdotp \\textbf{v}, \\textbf{v} \\cdotp \\textbf{w}, \\textbf{u} \\cdotp \\textbf{w}$\n",
    "\n",
    "**Manual Solution**\n",
    "$$\n",
    "\\begin{align}\n",
    "    \\textbf{u} \\cdotp \\textbf{v} &= (1)(3) + (-2)(5) + (4)(1) = 3 - 10 + 4 = -3 \\\\\n",
    "    \\textbf{v} \\cdotp \\textbf{w} &= (3)(2) + (5)(1) + (1)(-3) = 6 + 5 - 3 = 8 \\\\\n",
    "    \\textbf{u} \\cdotp \\textbf{w} &= (1)(2) + (-2)(1) + (4)(-3) = 2 - 2 - 12 = -12\n",
    "\\end{align}\n",
    "$$\n",
    "\n",
    "**Pythonic Solution**"
   ]
  },
  {
   "cell_type": "code",
   "execution_count": 8,
   "metadata": {},
   "outputs": [
    {
     "name": "stdout",
     "output_type": "stream",
     "text": [
      "u.v = -3\n",
      "v.w = 8\n",
      "u.w = -12\n"
     ]
    }
   ],
   "source": [
    "import numpy as np\n",
    "\n",
    "u = np.array([1, -2, 4])\n",
    "v = np.array([3, 5, 1])\n",
    "w = np.array([2, 1, -3])\n",
    "\n",
    "print(\"u.v =\", u.dot(v))\n",
    "print(\"v.w =\", v.dot(w))\n",
    "print(\"u.w =\", u.dot(w))"
   ]
  },
  {
   "cell_type": "markdown",
   "metadata": {},
   "source": [
    "d. $||\\textbf{u}||, ||\\textbf{v}||, ||\\textbf{w}||$\n",
    "\n",
    "**Manual Solution**\n",
    "$$\n",
    "\\begin{align}\n",
    "    ||\\textbf{u}|| &= \\sqrt{1^2 + (-2)^2 + 4^2} = \\sqrt{1 + 4 + 16} = \\sqrt{21} \\\\\n",
    "    ||\\textbf{v}|| &= \\sqrt{3^2 + 5^2 + 1^2} = \\sqrt{9 + 25 + 1} = \\sqrt{35} \\\\\n",
    "    ||\\textbf{w}|| &= \\sqrt{2^2 + 1^2 + (-3)^2} = \\sqrt{4 + 1 + 9} = \\sqrt{14}\n",
    "\\end{align}\n",
    "$$\n",
    "\n",
    "**Pythonic Solution**"
   ]
  },
  {
   "cell_type": "code",
   "execution_count": 11,
   "metadata": {},
   "outputs": [
    {
     "name": "stdout",
     "output_type": "stream",
     "text": [
      "||u|| = 4.58257569495584\n",
      "||u|| = 4.58257569495584\n",
      "\n",
      "||v|| = 5.916079783099616\n",
      "||v|| = 5.916079783099616\n",
      "\n",
      "||w|| = 3.7416573867739413\n",
      "||w|| = 3.7416573867739413\n"
     ]
    }
   ],
   "source": [
    "import numpy as np\n",
    "\n",
    "u = np.array([1, -2, 4])\n",
    "v = np.array([3, 5, 1])\n",
    "w = np.array([2, 1, -3])\n",
    "\n",
    "print(\"||u|| =\", np.linalg.norm(u))\n",
    "print(\"||u|| =\", np.sqrt(21))\n",
    "print()\n",
    "print(\"||v|| =\", np.linalg.norm(v))\n",
    "print(\"||v|| =\", np.sqrt(35))\n",
    "print() \n",
    "print(\"||w|| =\", np.linalg.norm(w))\n",
    "print(\"||w|| =\", np.sqrt(14))"
   ]
  },
  {
   "cell_type": "markdown",
   "metadata": {},
   "source": [
    "e. If $\\theta$ is the angle between $\\textbf{u}$ and $\\textbf{v}$, find $cos\\ \\theta$.\n",
    "\n",
    "**Manual Solution**\n",
    "$$\n",
    "\\begin{align}\n",
    "    cos\\ \\theta &= \\frac{\\textbf{u} \\cdotp \\textbf{v}}{||\\textbf{u}||\\ ||\\textbf{v}||} \\\\ \n",
    "        &= \\frac{(1)(3) + (-2)(5) + (4)(1)}{\\sqrt{1^2 + (-2)^2 + 4^2}\\sqrt{3^2 + 5^2 + 1^2}} \\\\\n",
    "        &= \\frac{3 - 10 + 4}{\\sqrt{1 + 4 + 16}\\sqrt{9 + 25 + 1}} \\\\\n",
    "        &= \\frac{-3}{\\sqrt{21}\\sqrt{35}}\n",
    "\\end{align}\n",
    "$$\n",
    "\n",
    "**Pythonic Solution**"
   ]
  },
  {
   "cell_type": "code",
   "execution_count": 22,
   "metadata": {},
   "outputs": [
    {
     "name": "stdout",
     "output_type": "stream",
     "text": [
      "angle = -0.11065666703449763\n",
      "angle = -0.11065666703449763\n"
     ]
    }
   ],
   "source": [
    "import numpy as np\n",
    "\n",
    "u = np.array([1, -2, 4])\n",
    "v = np.array([3, 5, 1])\n",
    "\n",
    "print(\"angle =\", u.dot(v) / (np.linalg.norm(u) * np.linalg.norm(v)))\n",
    "print(\"angle =\", -3 / (np.sqrt(21) * np.sqrt(35)))"
   ]
  },
  {
   "cell_type": "markdown",
   "metadata": {},
   "source": [
    "f. If $\\alpha$ is the angle between $\\textbf{v}$ and $\\textbf{w}$, find $cos\\ \\alpha$.\n",
    "\n",
    "**Manual Solution**\n",
    "$$\n",
    "\\begin{align}\n",
    "    cos\\ \\alpha &= \\frac{\\textbf{v} \\cdotp \\textbf{w}}{||\\textbf{v}||\\ ||\\textbf{w}||} \\\\\n",
    "        &= \\frac{(3)(2) + (5)(1) + (1)(-3)}{\\sqrt{3^2 + 5^2 + 1^2}\\sqrt{2^2 + 1^2 + (-3)^2}} \\\\\n",
    "        &= \\frac{6 + 5 - 3}{\\sqrt{9 + 25 + 1}\\sqrt{4 + 1 + 9}} \\\\\n",
    "        &= \\frac{8}{\\sqrt{35}\\sqrt{14}}\n",
    "\\end{align}\n",
    "$$\n",
    "\n",
    "**Pythonic Solution**"
   ]
  },
  {
   "cell_type": "code",
   "execution_count": 23,
   "metadata": {},
   "outputs": [
    {
     "name": "stdout",
     "output_type": "stream",
     "text": [
      "angle = 0.36140316116210053\n",
      "angle = 0.36140316116210053\n"
     ]
    }
   ],
   "source": [
    "import numpy as np\n",
    "\n",
    "v = np.array([3, 5, 1])\n",
    "w = np.array([2, 1, -3])\n",
    "\n",
    "print(\"angle =\", v.dot(w) / (np.linalg.norm(v) * np.linalg.norm(w)))\n",
    "print(\"angle =\", 8 / (np.sqrt(35) * np.sqrt(14)))"
   ]
  },
  {
   "cell_type": "markdown",
   "metadata": {},
   "source": [
    "g. If $\\beta$ is the angle between $\\textbf{u}$ and $\\textbf{w}$, find $cos\\ \\beta$.\n",
    "\n",
    "**Manual Solution**\n",
    "$$\n",
    "\\begin{align}\n",
    "    cos\\ \\beta &= \\frac{\\textbf{u} \\cdotp \\textbf{w}}{||\\textbf{u}||\\ ||\\textbf{w}||} \\\\\n",
    "        &= \\frac{(1)(2) + (-2)(1) + (4)(-3)}{\\sqrt{1^2 + (-2)^2 + 4^2}\\sqrt{2^2 + 1^2 + (-3)^2}} \\\\\n",
    "        &= \\frac{2 - 2 - 12}{\\sqrt{1 + 4 + 16}{4 + 1 + 9}} \\\\\n",
    "        &= \\frac{-12}{\\sqrt{21}\\sqrt{14}}\n",
    "\\end{align}\n",
    "$$\n",
    "\n",
    "**Pythonic Solution**"
   ]
  },
  {
   "cell_type": "code",
   "execution_count": 24,
   "metadata": {},
   "outputs": [
    {
     "name": "stdout",
     "output_type": "stream",
     "text": [
      "angle = -0.6998542122237653\n",
      "angle = -0.6998542122237653\n"
     ]
    }
   ],
   "source": [
    "import numpy as np\n",
    "\n",
    "u = np.array([1, -2, 4])\n",
    "w = np.array([2, 1, -3])\n",
    "\n",
    "print(\"angle =\", u.dot(w) / (np.linalg.norm(u) * np.linalg.norm(w)))\n",
    "print(\"angle =\", -12 / (np.sqrt(21) * np.sqrt(14)))"
   ]
  },
  {
   "cell_type": "markdown",
   "metadata": {},
   "source": [
    "h. Find $d(\\textbf{u}, \\textbf{v})$.\n",
    "\n",
    "**Manual Solution**\n",
    "$$\n",
    "\\begin{align}\n",
    "    d(\\textbf{u}, \\textbf{v}) &= ||\\textbf{u} - \\textbf{v}|| \\\\\n",
    "        &= \\sqrt{(1 - 3)^2 + (-2 - 5)^2 + (4 - 1)^2} \\\\\n",
    "        &= \\sqrt{(-2)^2 + (-7)^2 + (3)^2} \\\\\n",
    "        &= \\sqrt{4 + 49 + 9} \\\\\n",
    "        &= \\sqrt{62}\n",
    "\\end{align}\n",
    "$$\n",
    "\n",
    "**Pythonic Solution**"
   ]
  },
  {
   "cell_type": "code",
   "execution_count": 25,
   "metadata": {},
   "outputs": [
    {
     "name": "stdout",
     "output_type": "stream",
     "text": [
      "d(u,v) = 7.874007874011811\n",
      "d(u,v) = 7.874007874011811\n"
     ]
    }
   ],
   "source": [
    "import numpy as np\n",
    "\n",
    "u = np.array([1, -2, 4])\n",
    "v = np.array([3, 5, 1])\n",
    "\n",
    "print(\"d(u,v) =\", np.linalg.norm(u - v))\n",
    "print(\"d(u,v) =\", np.sqrt(62))"
   ]
  },
  {
   "cell_type": "markdown",
   "metadata": {},
   "source": [
    "i. Find $d(\\textbf{w},\\textbf{v})$.\n",
    "\n",
    "**Manual Solution**\n",
    "$$\n",
    "\\begin{align}\n",
    "    d(\\textbf{w},\\textbf{v}) &= ||\\textbf{w} - \\textbf{v}|| \\\\\n",
    "        &= \\sqrt{(2 - 3)^2 + (1 - 5)^2 + (-3 - 1)^2} \\\\\n",
    "        &= \\sqrt{(-1)^2 + (-4)^2 + (-4)^2} \\\\\n",
    "        &= \\sqrt{1 + 16 + 16} \\\\\n",
    "        &= \\sqrt{33}\n",
    "\\end{align}\n",
    "$$\n",
    "\n",
    "**Pythonic Solution**"
   ]
  },
  {
   "cell_type": "code",
   "execution_count": 27,
   "metadata": {},
   "outputs": [
    {
     "name": "stdout",
     "output_type": "stream",
     "text": [
      "d(w,v) = 5.744562646538029\n",
      "d(w,v) = 5.744562646538029\n"
     ]
    }
   ],
   "source": [
    "import numpy as np\n",
    "\n",
    "w = np.array([2, 1, -3])\n",
    "v = np.array([3, 5, 1])\n",
    "\n",
    "print(\"d(w,v) =\", np.linalg.norm(w - v))\n",
    "print(\"d(w,v) =\", np.sqrt(33))"
   ]
  },
  {
   "cell_type": "markdown",
   "metadata": {},
   "source": [
    "j. Find $d(\\textbf{u}, \\textbf{w})$.\n",
    "\n",
    "**Manual Solution**\n",
    "$$\n",
    "\\begin{align}\n",
    "    d(\\textbf{u}, \\textbf{w}) &= ||\\textbf{u} - \\textbf{w}|| \\\\\n",
    "        &= \\sqrt{(1 - 2)^2 + (-2 - 1)^2 + (4 - (-3))^2} \\\\\n",
    "        &= \\sqrt{(-1)^2 + (-3)^2 + (7)^2} \\\\\n",
    "        &= \\sqrt{1 + 9 + 49} \\\\\n",
    "        &= \\sqrt{59}\n",
    "\\end{align}\n",
    "$$\n",
    "\n",
    "**Pythonic Solution**"
   ]
  },
  {
   "cell_type": "code",
   "execution_count": 28,
   "metadata": {},
   "outputs": [
    {
     "name": "stdout",
     "output_type": "stream",
     "text": [
      "d(u,w) = 7.681145747868608\n",
      "d(u,w) = 7.681145747868608\n"
     ]
    }
   ],
   "source": [
    "import numpy as np\n",
    "\n",
    "u = np.array([1, -2, 4])\n",
    "w = np.array([2, 1, -3])\n",
    "\n",
    "print(\"d(u,w) =\", np.linalg.norm(u - w))\n",
    "print(\"d(u,w) =\", np.sqrt(59))"
   ]
  },
  {
   "cell_type": "markdown",
   "metadata": {},
   "source": [
    "k. Find $proj(\\textbf{u},\\textbf{v})$.\n",
    "\n",
    "**Manual Solution**\n",
    "$$\n",
    "\\begin{align}\n",
    "    proj(\\textbf{u},\\textbf{v}) &= \\frac{\\textbf{u} \\cdotp \\textbf{v}}{||\\textbf{v}||^2}\\textbf{v} \\\\\n",
    "        &= \\frac{(1)(3) + (-2)(5) + (4)(1)}{\\sqrt{3^2 + 5^2 + 1^2}^2}(3, 5, 1) \\\\\n",
    "        &= \\frac{3 - 10 + 4}{\\sqrt{9 + 25 + 1}^2}(3, 5, 1) \\\\\n",
    "        &= \\frac{-3}{\\sqrt{35}^2}(3, 5, 1) \\\\\n",
    "        &= \\frac{-3}{35}(3, 5, 1) \\\\\n",
    "        &= (-\\frac{9}{35},-\\frac{15}{35},-\\frac{3}{35})\n",
    "\\end{align}\n",
    "$$\n",
    "\n",
    "**Pythonic Solution**"
   ]
  },
  {
   "cell_type": "code",
   "execution_count": 35,
   "metadata": {},
   "outputs": [
    {
     "name": "stdout",
     "output_type": "stream",
     "text": [
      "proj(u,v) = [-0.25714286 -0.42857143 -0.08571429]\n",
      "proj(u,v) = [-0.25714286 -0.42857143 -0.08571429]\n"
     ]
    }
   ],
   "source": [
    "import numpy as np\n",
    "\n",
    "u = np.array([1, -2, 4])\n",
    "v = np.array([3, 5, 1])\n",
    "\n",
    "print(\"proj(u,v) =\", u.dot(v) * v / np.linalg.norm(v) ** 2)\n",
    "print(\"proj(u,v) =\", np.array([-9/35, -15/35, -3/35]))"
   ]
  },
  {
   "cell_type": "markdown",
   "metadata": {},
   "source": [
    "l. Find $proj(\\textbf{w},\\textbf{v})$.\n",
    "\n",
    "**Manual Solution**\n",
    "$$\n",
    "\\begin{align}\n",
    "    proj(\\textbf{w},\\textbf{v}) &= \\frac{\\textbf{w} \\cdotp \\textbf{v}}{||\\textbf{v}||^2}\\textbf{v} \\\\\n",
    "        &= \\frac{(2)(3) + (1)(5) + (-3)(1)}{\\sqrt{3^2 + 5^2 + 1^2}^2}(3, 5, 1) \\\\\n",
    "        &= \\frac{6 + 5 - 3}{\\sqrt{9 + 25 + 1}^2}(3, 5, 1) \\\\\n",
    "        &= \\frac{8}{\\sqrt{35}^2}(3, 5, 1) \\\\\n",
    "        &= \\frac{8}{35}(3, 5, 1) \\\\\n",
    "        &= (\\frac{24}{35},\\frac{40}{35},\\frac{8}{35})\n",
    "\\end{align}\n",
    "$$\n",
    "\n",
    "**Pythonic Solution**"
   ]
  },
  {
   "cell_type": "code",
   "execution_count": 36,
   "metadata": {},
   "outputs": [
    {
     "name": "stdout",
     "output_type": "stream",
     "text": [
      "proj(u,v) = [0.68571429 1.14285714 0.22857143]\n",
      "proj(u,v) = [0.68571429 1.14285714 0.22857143]\n"
     ]
    }
   ],
   "source": [
    "import numpy as np\n",
    "\n",
    "w = np.array([2, 1, -3])\n",
    "v = np.array([3, 5, 1])\n",
    "\n",
    "print(\"proj(u,v) =\", w.dot(v) * v / np.linalg.norm(v) ** 2)\n",
    "print(\"proj(u,v) =\", np.array([24/35, 40/35, 8/35]))"
   ]
  },
  {
   "cell_type": "markdown",
   "metadata": {},
   "source": [
    "m. Find $proj(\\textbf{u},\\textbf{w})$.\n",
    "\n",
    "**Manual Solution**\n",
    "$$\n",
    "\\begin{align}\n",
    "    proj(\\textbf{u},\\textbf{w}) &= \\frac{\\textbf{u} \\cdotp \\textbf{w}}{||\\textbf{w}||^2}\\textbf{w} \\\\\n",
    "        &= \\frac{(1)(2) + (-2)(1) + (4)(-3)}{\\sqrt{2^2 + 1^2 + (-3)^2}^2}(2, 1, -3) \\\\\n",
    "        &= \\frac{2 - 2 - 12}{\\sqrt{4 + 1 + 9}^2}(2, 1, -3) \\\\\n",
    "        &= \\frac{-12}{\\sqrt{14}^2}(2, 1, -3) \\\\\n",
    "        &= \\frac{-12}{14}(2, 1, -3) \\\\\n",
    "        &= \\frac{-6}{7}(2, 1, -3) \\\\\n",
    "        &= (-\\frac{12}{7},-\\frac{6}{7},\\frac{18}{7})\n",
    "\\end{align}\n",
    "$$\n",
    "\n",
    "**Pythonic Solution**"
   ]
  },
  {
   "cell_type": "code",
   "execution_count": 37,
   "metadata": {},
   "outputs": [
    {
     "name": "stdout",
     "output_type": "stream",
     "text": [
      "proj(u,v) = [-1.71428571 -0.85714286  2.57142857]\n",
      "proj(u,v) = [-1.71428571 -0.85714286  2.57142857]\n"
     ]
    }
   ],
   "source": [
    "import numpy as np\n",
    "\n",
    "u = np.array([1, -2, 4])\n",
    "w = np.array([2, 1, -3])\n",
    "\n",
    "print(\"proj(u,v) =\", u.dot(w) * w / np.linalg.norm(w) ** 2)\n",
    "print(\"proj(u,v) =\", np.array([-12/7, -6/7, 18/7]))"
   ]
  }
 ],
 "metadata": {
  "kernelspec": {
   "display_name": "Python 3",
   "language": "python",
   "name": "python3"
  },
  "language_info": {
   "codemirror_mode": {
    "name": "ipython",
    "version": 3
   },
   "file_extension": ".py",
   "mimetype": "text/x-python",
   "name": "python",
   "nbconvert_exporter": "python",
   "pygments_lexer": "ipython3",
   "version": "3.11.5"
  },
  "orig_nbformat": 4
 },
 "nbformat": 4,
 "nbformat_minor": 2
}
