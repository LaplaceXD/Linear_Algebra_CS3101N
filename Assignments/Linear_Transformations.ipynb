{
 "cells": [
  {
   "cell_type": "markdown",
   "metadata": {},
   "source": [
    "# Linear Transformations\n",
    "---\n",
    "**Name:** Jonh Alexis Buot <br>\n",
    "**Date:** December 2023 <br>\n",
    "**Course:** CS3101N <br>\n",
    "**Task:** Assignment - Linear Transformations\n",
    "\n",
    "---"
   ]
  },
  {
   "cell_type": "code",
   "execution_count": 1,
   "metadata": {},
   "outputs": [],
   "source": [
    "import random\n",
    "import numpy as np"
   ]
  },
  {
   "cell_type": "markdown",
   "metadata": {},
   "source": [
    "# Code Challenges"
   ]
  },
  {
   "cell_type": "markdown",
   "metadata": {},
   "source": [
    "**1. Develop a python function from scratch that will find the determinants of any $n$ x $n$ matrix.**"
   ]
  },
  {
   "cell_type": "code",
   "execution_count": 2,
   "metadata": {},
   "outputs": [],
   "source": [
    "def mat_det(A):\n",
    "# =============================================================================\n",
    "#   Calculate the determinant of a square matrix A.\n",
    "# =============================================================================\n",
    "    assert len(A) == 0 or all(type(row) == list for row in A) and len(A) == len(A[0]), \"A should be a square matrix.\"\n",
    "    \n",
    "    n = len(A)\n",
    "    if   n == 0: return 1.\n",
    "    elif n == 1: return A[0][0]\n",
    "    elif n == 2: return A[0][0] * A[1][1] - A[0][1] * A[1][0] \n",
    "\n",
    "    det = 0.\n",
    "    for col, cofactor in enumerate(A[0]):\n",
    "        minor = [[A[i][j] for j in range(n) if j != col] for i in range(1, n)]\n",
    "        det += (-1) ** col * cofactor * mat_det(minor)\n",
    "\n",
    "    return det"
   ]
  },
  {
   "cell_type": "markdown",
   "metadata": {},
   "source": [
    "**2. Develop a python function from scratch that will find both the eigenvectors and eigenvalues of any $n$ x $n$ matrix.**"
   ]
  },
  {
   "cell_type": "code",
   "execution_count": 387,
   "metadata": {},
   "outputs": [],
   "source": [
    "def dot(vec_a, vec_b):\n",
    "    return sum(a * b for a, b in zip(vec_a, vec_b))\n",
    "\n",
    "def normalize(vector):\n",
    "    vec_norm = sum(a ** 2 for a in vector) ** 0.5\n",
    "    return [entry / vec_norm for entry in vector]\n",
    "\n",
    "def transform(matrix, vector):\n",
    "    return [sum(row_entry * vector_entry for row_entry, vector_entry in zip(row, vector)) for row in matrix]\n",
    "\n",
    "def mat_eig(A, max_iterations = 50000):\n",
    "# =============================================================================\n",
    "#   Calculate the eigenvectors and eigenvalues of a square matrix A.\n",
    "#   \n",
    "#   Note: This uses power method with Weilandt deflation.\n",
    "#   https://services.math.duke.edu/~jtwong/math361-2019/lectures/Lec10eigenvalues.pdf\n",
    "#   https://www.math.umd.edu/~rvbalan/TEACHING/AMSC663Fall2015/PROJECTS/P2/AMSC663664%20Midyear%20Report_DanielleMiddlebrooks.pdf\n",
    "# =============================================================================\n",
    "    assert len(A) == 0 or all(type(row) == list for row in A) and len(A) == len(A[0]), \"A should be a square matrix.\"\n",
    "\n",
    "    n = len(A) \n",
    "    if n == 0: return [], []\n",
    "    if n == 1: return [A[0][0]], [[1.]]\n",
    "\n",
    "    eigenvectors = []\n",
    "    eigenvalues = []\n",
    "\n",
    "    eigvec = normalize([random.random() for _ in range(n)])\n",
    "    \n",
    "    for _ in range(n):\n",
    "        # Power Method\n",
    "        for _ in range(max_iterations):\n",
    "            eigvec = transform(A, eigvec)\n",
    "            eigvec = normalize(eigvec) \n",
    "\n",
    "            tf_eigvec = transform(A, eigvec) \n",
    "            eigval = dot(eigvec, tf_eigvec)\n",
    "            \n",
    "        eigenvalues.append(eigval)\n",
    "        eigenvectors.append(eigvec)\n",
    "\n",
    "        # Deflate Matrix with Weilandt deflation\n",
    "        outer_product = [[eigval * a * b for b in eigvec] for a in eigvec]\n",
    "        A = [[A[i][j] - outer_product[i][j] for j in range(n)] for i in range(n)]\n",
    "\n",
    "        guess_eigvec = normalize([random.random() for _ in range(n)])\n",
    "        proj_factor = dot(eigvec, guess_eigvec) / dot(eigvec, eigvec)\n",
    "\n",
    "        eigvec = [entry - proj_factor * entry for entry in guess_eigvec]\n",
    "\n",
    "    return eigenvalues, [list(row) for row in zip(*eigenvectors)]"
   ]
  },
  {
   "cell_type": "markdown",
   "metadata": {},
   "source": [
    "**3. Test your functions from a randomly generated $n$ x $n$ matrix.**"
   ]
  },
  {
   "cell_type": "markdown",
   "metadata": {},
   "source": [
    "- Testing and comparing my determinant implementation to the `numpy` implementation for an $n$ x $n$ matrix."
   ]
  },
  {
   "cell_type": "code",
   "execution_count": 397,
   "metadata": {},
   "outputs": [
    {
     "name": "stdout",
     "output_type": "stream",
     "text": [
      "-- A --\n",
      "[[4.98390461 1.63467746 3.44200947 0.86074013 2.55808818 3.94359729\n",
      "  4.4015802  1.76228538]\n",
      " [3.746334   4.77054613 4.90186545 3.18545827 0.89319034 1.67814781\n",
      "  1.26443645 0.94101771]\n",
      " [2.71471303 0.07278666 2.06979264 3.0263978  4.68253045 0.15064801\n",
      "  2.31888178 3.89684038]\n",
      " [4.35286512 4.76923123 0.28189721 3.80366929 3.83473056 0.50710951\n",
      "  2.8496769  1.44115033]\n",
      " [2.78025046 0.01633914 0.85254477 0.49796835 3.09508406 1.03865323\n",
      "  0.49482846 1.20550739]\n",
      " [3.31143881 4.03251604 0.06407929 0.52017303 1.59731948 3.31809417\n",
      "  0.72305312 0.54768307]\n",
      " [4.10947835 1.30649059 0.11370461 3.1921519  2.95633039 4.40659993\n",
      "  4.3994732  2.15106668]\n",
      " [0.72316552 2.70979877 4.59044597 3.29480089 3.53860311 0.15506324\n",
      "  3.32601769 0.07167396]]\n",
      "\n",
      "-- My det(A) --\n",
      "42151.95980819416\n",
      "\n",
      "-- Numpy det(A) --\n",
      "42151.95980819413\n",
      "\n",
      "Are my results equal to numpy? Yes.\n"
     ]
    }
   ],
   "source": [
    "A = np.random.random((8, 8)).astype(\"float64\") * 5\n",
    "\n",
    "my_result = mat_det(A.tolist())\n",
    "np_result = np.linalg.det(A)\n",
    "\n",
    "print(\"-- A --\", A, sep=\"\\n\")\n",
    "print(\"\\n-- My det(A) --\", my_result, sep=\"\\n\")\n",
    "print(\"\\n-- Numpy det(A) --\", np_result, sep=\"\\n\")\n",
    "print(\"\\nAre my results equal to numpy?\", \"Yes.\" if np.isclose(my_result, np_result) else \"No.\")"
   ]
  },
  {
   "cell_type": "markdown",
   "metadata": {},
   "source": [
    "- Testing and comparing my eigenvalue and eigenvector algorithm implementation to the `numpy` implementation for an $n$ x $n$ matrix."
   ]
  },
  {
   "cell_type": "code",
   "execution_count": 386,
   "metadata": {},
   "outputs": [
    {
     "name": "stdout",
     "output_type": "stream",
     "text": [
      "-- A --\n",
      "[[3.28600296 1.64424693 1.17217275]\n",
      " [0.74998807 0.63806035 0.40745403]\n",
      " [0.62328301 2.49202929 1.36374031]]\n",
      "\n",
      "-- My Eigenvalues and Eigenvectors --\n",
      "[ 4.23051027e+00  1.06103232e+00 -3.73897656e-03]\n",
      "[[ 0.88985175 -0.21680576  0.20128907]\n",
      " [ 0.23043492  0.07476357 -0.07826623]\n",
      " [ 0.39378118  0.97334766 -0.97640008]]\n",
      "\n",
      "-- Numpy Eigenvalues and Eigenvectors --\n",
      "[ 4.23051027e+00  1.06103232e+00 -3.73897656e-03]\n",
      "[[-0.88985175 -0.47249637 -0.08272621]\n",
      " [-0.23043492  0.011129   -0.46344065]\n",
      " [-0.39378118  0.88126235  0.88225798]]\n",
      "\n",
      "\n",
      " Are the differences of eigenvalues close? Yes.\n",
      "\n",
      "-- Cosine Similarity of Eigenvectors --\n",
      "[-1.          0.96104662 -0.84181689]\n"
     ]
    }
   ],
   "source": [
    "A = np.random.random((3, 3)).astype(\"float64\") * 5\n",
    "\n",
    "np_ev, np_evl = np.linalg.eig(A)\n",
    "m_ev, m_evl = mat_eig(A.tolist())\n",
    "m_ev, m_evl = np.array(m_ev), np.array(m_evl)\n",
    "\n",
    "print(\"-- A --\", A, sep=\"\\n\")\n",
    "print(\"\\n-- My Eigenvalues and Eigenvectors --\", m_ev, m_evl, sep=\"\\n\")\n",
    "print(\"\\n-- Numpy Eigenvalues and Eigenvectors --\", np_ev, np_evl, sep=\"\\n\")\n",
    "\n",
    "print(\"\\n\\n\", \"Are the differences of eigenvalues close?\", \"Yes.\" if np.allclose(m_ev, np_ev) else \"No.\")\n",
    "\n",
    "cosine_similarity = np.array([npe.dot(me) / (np.linalg.norm(me) * np.linalg.norm(npe)) for npe, me in zip(np_evl.T, m_evl.T)]).T\n",
    "print(\"\\n-- Cosine Similarity of Eigenvectors --\", cosine_similarity, sep=\"\\n\")"
   ]
  }
 ],
 "metadata": {
  "kernelspec": {
   "display_name": "Python 3",
   "language": "python",
   "name": "python3"
  },
  "language_info": {
   "codemirror_mode": {
    "name": "ipython",
    "version": 3
   },
   "file_extension": ".py",
   "mimetype": "text/x-python",
   "name": "python",
   "nbconvert_exporter": "python",
   "pygments_lexer": "ipython3",
   "version": "3.12.1"
  }
 },
 "nbformat": 4,
 "nbformat_minor": 2
}
