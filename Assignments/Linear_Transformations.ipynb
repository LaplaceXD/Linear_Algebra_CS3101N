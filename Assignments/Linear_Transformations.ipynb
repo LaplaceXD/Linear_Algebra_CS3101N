{
 "cells": [
  {
   "cell_type": "markdown",
   "metadata": {},
   "source": [
    "# Linear Transformations\n",
    "---\n",
    "**Name:** Jonh Alexis Buot <br>\n",
    "**Date:** December 2023 <br>\n",
    "**Course:** CS3101N <br>\n",
    "**Task:** Assignment - Linear Transformations\n",
    "\n",
    "---"
   ]
  },
  {
   "cell_type": "code",
   "execution_count": 1,
   "metadata": {},
   "outputs": [],
   "source": [
    "import random\n",
    "import numpy as np"
   ]
  },
  {
   "cell_type": "markdown",
   "metadata": {},
   "source": [
    "# Code Challenges"
   ]
  },
  {
   "cell_type": "markdown",
   "metadata": {},
   "source": [
    "**1. Develop a python function from scratch that will find the determinants of any $n$ x $n$ matrix.**"
   ]
  },
  {
   "cell_type": "code",
   "execution_count": 2,
   "metadata": {},
   "outputs": [],
   "source": [
    "def mat_det(A):\n",
    "# =============================================================================\n",
    "#   Calculate the determinant of a square matrix A.\n",
    "# =============================================================================\n",
    "    assert len(A) == 0 or all(type(row) == list for row in A) and len(A) == len(A[0]), \"A should be a square matrix.\"\n",
    "    \n",
    "    n = len(A)\n",
    "    if   n == 0: return 1.\n",
    "    elif n == 1: return A[0][0]\n",
    "    elif n == 2: return A[0][0] * A[1][1] - A[0][1] * A[1][0] \n",
    "\n",
    "    det = 0.\n",
    "    for col, cofactor in enumerate(A[0]):\n",
    "        minor = [[A[i][j] for j in range(n) if j != col] for i in range(1, n)]\n",
    "        det += (-1) ** col * cofactor * mat_det(minor)\n",
    "\n",
    "    return det"
   ]
  },
  {
   "cell_type": "markdown",
   "metadata": {},
   "source": [
    "**2. Develop a python function from scratch that will find both the eigenvectors and eigenvalues of any $n$ x $n$ matrix.**"
   ]
  },
  {
   "cell_type": "code",
   "execution_count": 3,
   "metadata": {},
   "outputs": [],
   "source": [
    "def mat_eig(A, max_iterations = 50000):\n",
    "# =============================================================================\n",
    "#   Calculate the eigenvectors and eigenvalues of a square matrix A.\n",
    "#   \n",
    "#   Note: This uses power method with Weilandt deflation.\n",
    "#   https://services.math.duke.edu/~jtwong/math361-2019/lectures/Lec10eigenvalues.pdf\n",
    "# =============================================================================\n",
    "    assert len(A) == 0 or all(type(row) == list for row in A) and len(A) == len(A[0]), \"A should be a square matrix.\"\n",
    "\n",
    "    n = len(A) \n",
    "    if n == 0: return [], []\n",
    "    if n == 1: return [A[0][0]], [[1.]]\n",
    "\n",
    "    eigenvectors = []\n",
    "    eigenvalues = []\n",
    "\n",
    "    for _ in range(n):\n",
    "        # Generate random guess for eigenvector with ||eigvec|| = 1\n",
    "        eigvec = [random.random() for _ in range(n)]\n",
    "        norm_eigvec = sum(a ** 2 for a in eigvec) ** 0.5\n",
    "        eigvec = [a / norm_eigvec for a in eigvec]\n",
    "\n",
    "        # Power Method\n",
    "        for _ in range(max_iterations):\n",
    "            tf_eigvec = [sum(a * b for a, b in zip(row, eigvec)) for row in A]\n",
    "            \n",
    "            norm_tf = sum(a ** 2 for a in tf_eigvec) ** 0.5\n",
    "            eigvec = [a / norm_tf for a in tf_eigvec]\n",
    "            \n",
    "        eigval = sum(a * b for a, b in zip(tf_eigvec, eigvec))\n",
    "        eigenvalues.append(eigval)\n",
    "        eigenvectors.append(eigvec)\n",
    "\n",
    "        # Deflate Matrix with Weilandt deflation\n",
    "        eigenval_outer_product = [[a * b for b in eigvec] for a in tf_eigvec]\n",
    "        A = [[A[i][j] - eigenval_outer_product[i][j] for j in range(n)] for i in range(n)]\n",
    "\n",
    "    return eigenvalues, [list(row) for row in zip(*eigenvectors)]"
   ]
  },
  {
   "cell_type": "markdown",
   "metadata": {},
   "source": [
    "**3. Test your functions from a randomly generated $n$ x $n$ matrix.**"
   ]
  },
  {
   "cell_type": "markdown",
   "metadata": {},
   "source": [
    "- Testing and comparing my determinant implementation to the `numpy` implementation for an $n$ x $n$ matrix."
   ]
  },
  {
   "cell_type": "code",
   "execution_count": 4,
   "metadata": {},
   "outputs": [
    {
     "name": "stdout",
     "output_type": "stream",
     "text": [
      "-- A --\n",
      "[[2.61654799 1.92755718 0.80934912 2.07062851 4.38792179 2.08568381\n",
      "  3.07140397 2.97398685]\n",
      " [1.57326172 3.28994004 1.1426231  2.75226726 2.77261071 2.61869971\n",
      "  4.04993022 1.62266107]\n",
      " [2.99787751 3.75953669 0.40446025 0.53956571 3.58952259 4.99530672\n",
      "  4.79429782 1.60752208]\n",
      " [1.99797279 0.66882465 2.12216409 1.06980442 0.14800765 3.74073806\n",
      "  1.53735935 2.29732435]\n",
      " [0.29288092 0.9396201  2.95297398 1.37040809 0.31911604 1.70463093\n",
      "  1.27872404 2.65460038]\n",
      " [4.14582085 3.60046556 4.57750194 3.50063362 2.25634093 1.30662281\n",
      "  1.55736113 0.45325291]\n",
      " [2.85754194 4.94858426 3.59183662 4.75397572 4.4283282  4.87825044\n",
      "  4.42220078 2.01641828]\n",
      " [2.86462575 3.72657255 2.2160887  1.30797059 1.25828481 2.50840064\n",
      "  0.64466336 1.84662126]]\n",
      "\n",
      "-- My det(A) --\n",
      "6805.065697917604\n",
      "\n",
      "-- Numpy det(A) --\n",
      "6805.065697917598\n",
      "\n",
      "Are my results equal to numpy? Yes.\n"
     ]
    }
   ],
   "source": [
    "A = np.random.random((8, 8)).astype(\"float64\") * 5\n",
    "\n",
    "my_result = mat_det(A.tolist())\n",
    "np_result = np.linalg.det(A)\n",
    "\n",
    "print(\"-- A --\", A, sep=\"\\n\")\n",
    "print(\"\\n-- My det(A) --\", my_result, sep=\"\\n\")\n",
    "print(\"\\n-- Numpy det(A) --\", np_result, sep=\"\\n\")\n",
    "print(\"\\nAre my results equal to numpy?\", \"Yes.\" if np.isclose(my_result, np_result) else \"No.\")"
   ]
  },
  {
   "cell_type": "markdown",
   "metadata": {},
   "source": [
    "- Testing and comparing my eigenvalue and eigenvector algorithm implementation to the `numpy` implementation for an $n$ x $n$ matrix."
   ]
  },
  {
   "cell_type": "code",
   "execution_count": 19,
   "metadata": {},
   "outputs": [
    {
     "name": "stdout",
     "output_type": "stream",
     "text": [
      "-- A --\n",
      "[[4.95278041 0.9504671  2.18684775]\n",
      " [0.58380958 3.50930189 1.51983768]\n",
      " [4.17113516 2.09361879 4.54084863]]\n",
      "\n",
      "-- My Eigenvalues and Eigenvectors --\n",
      "[8.43705126 3.1700862  1.39579347]\n",
      "[[ 0.56455005  0.44016942  0.93755896]\n",
      " [ 0.30360975 -0.89737194  0.22158244]\n",
      " [ 0.76753134  0.03121654  0.26811269]]\n",
      "\n",
      "-- Numpy Eigenvalues and Eigenvectors --\n",
      "[8.43705126 3.1700862  1.39579347]\n",
      "[[-0.56455005 -0.44016358 -0.36536384]\n",
      " [-0.30360975  0.89737509 -0.47483098]\n",
      " [-0.76753134 -0.03120859  0.80065274]]\n",
      "\n",
      "\n",
      " Are the differences of eigenvalues close? Yes.\n",
      "\n",
      "-- Cosine Similarity of Eigenvalues --\n",
      "[1.        1.        0.2330992]\n"
     ]
    }
   ],
   "source": [
    "A = np.random.random((3, 3)).astype(\"float64\") * 5\n",
    "\n",
    "np_ev, np_evl = np.linalg.eig(A)\n",
    "m_ev, m_evl = mat_eig(A.tolist())\n",
    "m_ev, m_evl = np.array(m_ev), np.array(m_evl)\n",
    "\n",
    "print(\"-- A --\", A, sep=\"\\n\")\n",
    "print(\"\\n-- My Eigenvalues and Eigenvectors --\", m_ev, m_evl, sep=\"\\n\")\n",
    "print(\"\\n-- Numpy Eigenvalues and Eigenvectors --\", np_ev, np_evl, sep=\"\\n\")\n",
    "\n",
    "print(\"\\n\\n\", \"Are the differences of eigenvalues close?\", \"Yes.\" if np.allclose(m_ev, np_ev) else \"No.\")\n",
    "\n",
    "cosine_similarity = np.array([abs(npe.dot(me) / (np.linalg.norm(me) * np.linalg.norm(npe))) for npe, me in zip(np_evl.T, m_evl.T)]).T\n",
    "print(\"\\n-- Cosine Similarity of Eigenvalues --\", cosine_similarity, sep=\"\\n\")"
   ]
  }
 ],
 "metadata": {
  "kernelspec": {
   "display_name": "Python 3",
   "language": "python",
   "name": "python3"
  },
  "language_info": {
   "codemirror_mode": {
    "name": "ipython",
    "version": 3
   },
   "file_extension": ".py",
   "mimetype": "text/x-python",
   "name": "python",
   "nbconvert_exporter": "python",
   "pygments_lexer": "ipython3",
   "version": "3.12.1"
  }
 },
 "nbformat": 4,
 "nbformat_minor": 2
}
