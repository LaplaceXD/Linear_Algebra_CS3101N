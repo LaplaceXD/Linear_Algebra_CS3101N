{
 "cells": [
  {
   "cell_type": "markdown",
   "metadata": {},
   "source": [
    "# Linear Transformations\n",
    "---\n",
    "**Name:** Jonh Alexis Buot <br>\n",
    "**Date:** December 2023 <br>\n",
    "**Course:** CS3101N <br>\n",
    "**Task:** Assignment - Linear Transformations\n",
    "\n",
    "---"
   ]
  },
  {
   "cell_type": "code",
   "execution_count": 673,
   "metadata": {},
   "outputs": [],
   "source": [
    "import random\n",
    "import numpy as np"
   ]
  },
  {
   "cell_type": "markdown",
   "metadata": {},
   "source": [
    "# Code Challenges"
   ]
  },
  {
   "cell_type": "markdown",
   "metadata": {},
   "source": [
    "**1. Develop a python function from scratch that will find the determinants of any $n$ x $n$ matrix.**"
   ]
  },
  {
   "cell_type": "code",
   "execution_count": 674,
   "metadata": {},
   "outputs": [],
   "source": [
    "def mat_det(A):\n",
    "# =============================================================================\n",
    "#   Calculate the determinant of a square matrix A.\n",
    "# =============================================================================\n",
    "    assert len(A) == 0 or all(type(row) == list for row in A) and len(A) == len(A[0]), \"A should be a square matrix.\"\n",
    "    \n",
    "    n = len(A)\n",
    "    if   n == 0: return 1.\n",
    "    elif n == 1: return A[0][0]\n",
    "    elif n == 2: return A[0][0] * A[1][1] - A[0][1] * A[1][0] \n",
    "\n",
    "    det = 0.\n",
    "    for col, cofactor in enumerate(A[0]):\n",
    "        minor = [[A[i][j] for j in range(n) if j != col] for i in range(1, n)]\n",
    "        det += (-1) ** col * cofactor * mat_det(minor)\n",
    "\n",
    "    return det"
   ]
  },
  {
   "cell_type": "markdown",
   "metadata": {},
   "source": [
    "**2. Develop a python function from scratch that will find both the eigenvectors and eigenvalues of any $n$ x $n$ matrix.**"
   ]
  },
  {
   "cell_type": "code",
   "execution_count": 714,
   "metadata": {},
   "outputs": [],
   "source": [
    "def mat_eig(A, max_iterations = 10000):\n",
    "# =============================================================================\n",
    "#   Calculate the eigenvectors and eigenvalues of a square matrix A.\n",
    "#   \n",
    "#   Note: This uses power method with hotelling deflation.\n",
    "#   https://services.math.duke.edu/~jtwong/math361-2019/lectures/Lec10eigenvalues.pdf\n",
    "# =============================================================================\n",
    "    assert len(A) == 0 or all(type(row) == list for row in A) and len(A) == len(A[0]), \"A should be a square matrix.\"\n",
    "\n",
    "    n = len(A) \n",
    "    if n == 0: return [], []\n",
    "    if n == 1: return [A[0][0]], [[1.]]\n",
    "\n",
    "    eigenvectors = []\n",
    "    eigenvalues = []\n",
    "\n",
    "    for _ in range(n):\n",
    "        # Generate random guess for eigenvector with ||eigvec|| = 1\n",
    "        eigvec = [random.random() for _ in range(n)]\n",
    "        norm_eigvec = sum(a ** 2 for a in eigvec) ** 0.5\n",
    "        eigvec = [a / norm_eigvec for a in eigvec]\n",
    "\n",
    "        # Power Method\n",
    "        for _ in range(max_iterations):\n",
    "            tf_eigvec = [sum(a * b for a, b in zip(row, eigvec)) for row in A]\n",
    "            \n",
    "            norm_tf = sum(a ** 2 for a in tf_eigvec) ** 0.5\n",
    "            eigvec = [a / norm_tf for a in tf_eigvec]\n",
    "            \n",
    "        eigval = sum(a * b for a, b in zip(tf_eigvec, eigvec))\n",
    "        eigenvalues.append(eigval)\n",
    "        eigenvectors.append(eigvec)\n",
    "\n",
    "        # Deflate Matrix\n",
    "        eigenval_outer_product = [[eigval * a * b / eigval for b in eigvec] for a in tf_eigvec]\n",
    "        A = [[A[i][j] - eigenval_outer_product[i][j] for j in range(n)] for i in range(n)]\n",
    "\n",
    "    return eigenvalues, [list(row) for row in zip(*eigenvectors)]"
   ]
  },
  {
   "cell_type": "markdown",
   "metadata": {},
   "source": [
    "**3. Test your functions from a randomly generated $n$ x $n$ matrix.**"
   ]
  },
  {
   "cell_type": "markdown",
   "metadata": {},
   "source": [
    "- Testing and comparing my determinant implementation to the `numpy` implementation for an $n$ x $n$ matrix."
   ]
  },
  {
   "cell_type": "code",
   "execution_count": 679,
   "metadata": {},
   "outputs": [
    {
     "name": "stdout",
     "output_type": "stream",
     "text": [
      "-- A --\n",
      "[[1.98807091 2.40997936 1.75637492 4.39015175 2.18998783 2.93207122\n",
      "  4.04727582 2.81296037]\n",
      " [3.12364052 0.49919794 3.81875341 1.98708201 2.64102244 0.0851378\n",
      "  1.15345157 1.71538701]\n",
      " [1.2565729  2.76963438 2.17961284 2.85986999 3.78769557 1.41499935\n",
      "  0.68529863 4.40412522]\n",
      " [0.3164824  0.38951355 0.05162677 4.82031128 3.67667059 1.0963566\n",
      "  4.61590761 2.87741637]\n",
      " [2.8022465  0.86121105 2.68352865 4.98150003 2.19348394 1.65629326\n",
      "  0.93531264 0.10097983]\n",
      " [3.02681458 0.24030133 4.79512195 0.79668573 3.21064113 0.65536868\n",
      "  2.50885955 4.14700326]\n",
      " [1.1140123  0.05163665 1.89508189 3.7598244  1.93253434 1.7822086\n",
      "  4.75691959 3.25257158]\n",
      " [3.48592547 1.51564648 2.67646586 2.05514124 1.21059168 4.58517945\n",
      "  0.75908825 4.21362902]]\n",
      "\n",
      "-- My det(A) --\n",
      "2942.5506423478587\n",
      "\n",
      "-- Numpy det(A) --\n",
      "2942.550642347845\n",
      "\n",
      "Are my results equal to numpy? Yes.\n"
     ]
    }
   ],
   "source": [
    "A = np.random.random((8, 8)).astype(\"float64\") * 5\n",
    "\n",
    "my_result = mat_det(A.tolist())\n",
    "np_result = np.linalg.det(A)\n",
    "\n",
    "print(\"-- A --\", A, sep=\"\\n\")\n",
    "print(\"\\n-- My det(A) --\", my_result, sep=\"\\n\")\n",
    "print(\"\\n-- Numpy det(A) --\", np_result, sep=\"\\n\")\n",
    "print(\"\\nAre my results equal to numpy?\", \"Yes.\" if np.isclose(my_result, np_result) else \"No.\")"
   ]
  },
  {
   "cell_type": "markdown",
   "metadata": {},
   "source": [
    "- Testing and comparing my eigenvalue and eigenvector algorithm implementation to the `numpy` implementation for an $n$ x $n$ matrix."
   ]
  },
  {
   "cell_type": "code",
   "execution_count": 872,
   "metadata": {},
   "outputs": [
    {
     "name": "stdout",
     "output_type": "stream",
     "text": [
      "-- A --\n",
      "[[4.20677299 0.22257174 2.40438209]\n",
      " [1.61750839 4.17822603 3.4276382 ]\n",
      " [1.70149125 0.04315884 1.48650216]]\n",
      "\n",
      "-- My Eigenvalues and Eigenvectors --\n",
      "[5.68586751 3.74710003 0.43853365]\n",
      "[[ 0.432322    0.90181502 -0.92085443]\n",
      " [ 0.88269675  0.13282581  0.04043162]\n",
      " [ 0.18423933  0.41120186 -0.38780459]]\n",
      "\n",
      "-- Numpy Eigenvalues and Eigenvectors --\n",
      "[5.68586751 3.74710003 0.43853365]\n",
      "[[ 0.432322    0.11720146 -0.44773816]\n",
      " [ 0.88269675 -0.99068727 -0.49117473]\n",
      " [ 0.18423933  0.0693004   0.74717998]]\n",
      "\n",
      "\n",
      " Are the differences of eigenvalues close? Yes.\n",
      "\n",
      "-- Cosine Similarity of Eigenvalues --\n",
      "[1.         0.00260165 0.10268285]\n"
     ]
    }
   ],
   "source": [
    "A = np.random.random((3, 3)).astype(\"float64\") * 5\n",
    "\n",
    "np_ev, np_evl = np.linalg.eig(A)\n",
    "m_ev, m_evl = mat_eig(A.tolist())\n",
    "m_ev, m_evl = np.array(m_ev), np.array(m_evl)\n",
    "\n",
    "print(\"-- A --\", A, sep=\"\\n\")\n",
    "print(\"\\n-- My Eigenvalues and Eigenvectors --\", m_ev, m_evl, sep=\"\\n\")\n",
    "print(\"\\n-- Numpy Eigenvalues and Eigenvectors --\", np_ev, np_evl, sep=\"\\n\")\n",
    "\n",
    "print(\"\\n\\n\", \"Are the differences of eigenvalues close?\", \"Yes.\" if np.allclose(m_ev, np_ev) else \"No.\")\n",
    "\n",
    "cosine_similarity = np.array([abs(npe.dot(me) / (np.linalg.norm(me) * np.linalg.norm(npe))) for npe, me in zip(np_evl.T, m_evl.T)]).T\n",
    "print(\"\\n-- Cosine Similarity of Eigenvalues --\", cosine_similarity, sep=\"\\n\")"
   ]
  }
 ],
 "metadata": {
  "kernelspec": {
   "display_name": "Python 3",
   "language": "python",
   "name": "python3"
  },
  "language_info": {
   "codemirror_mode": {
    "name": "ipython",
    "version": 3
   },
   "file_extension": ".py",
   "mimetype": "text/x-python",
   "name": "python",
   "nbconvert_exporter": "python",
   "pygments_lexer": "ipython3",
   "version": "3.12.1"
  }
 },
 "nbformat": 4,
 "nbformat_minor": 2
}
