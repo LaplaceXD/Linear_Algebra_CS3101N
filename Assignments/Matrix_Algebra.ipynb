{
 "cells": [
  {
   "cell_type": "markdown",
   "metadata": {},
   "source": [
    "# Matrix Algebra\n",
    "---\n",
    "**Name:** Jonh Alexis Buot <br>\n",
    "**Date:** December 2023 <br>\n",
    "**Course:** CS3101N <br>\n",
    "**Task:** Assignment - Matrix Algebra\n",
    "\n",
    "---"
   ]
  },
  {
   "cell_type": "code",
   "execution_count": 62,
   "metadata": {},
   "outputs": [],
   "source": [
    "import numpy as np"
   ]
  },
  {
   "cell_type": "markdown",
   "metadata": {},
   "source": [
    "# Code Challenges\n",
    "\n",
    "For the coding challenges, sample executions would be shown, as well as `numpy` executions to compare the results of the two."
   ]
  },
  {
   "cell_type": "markdown",
   "metadata": {},
   "source": [
    "**1. Without the use of any python libraries or modules, develop a function that can perform matrix addition, given two numpy matrices.**"
   ]
  },
  {
   "cell_type": "code",
   "execution_count": 63,
   "metadata": {},
   "outputs": [
    {
     "name": "stdout",
     "output_type": "stream",
     "text": [
      "-- A --\n",
      "[[ 20.   7.  36. -18.]\n",
      " [ 49.  40.  21. -21.]\n",
      " [-12.  46.  19.  32.]\n",
      " [ 34. -34.  45.  40.]\n",
      " [ 10.  39.   2.  10.]]\n",
      "\n",
      "-- B --\n",
      "[[ 14.  -8. -37. -25.]\n",
      " [ -4. -31. -22.  34.]\n",
      " [ 34. -33. -24.  15.]\n",
      " [-29.   0. -39.   4.]\n",
      " [  5. -31. -28.  19.]]\n",
      "\n",
      "-- My A + B --\n",
      "[[ 34.  -1.  -1. -43.]\n",
      " [ 45.   9.  -1.  13.]\n",
      " [ 22.  13.  -5.  47.]\n",
      " [  5. -34.   6.  44.]\n",
      " [ 15.   8. -26.  29.]]\n",
      "\n",
      "-- Numpy A + B --\n",
      "[[ 34.  -1.  -1. -43.]\n",
      " [ 45.   9.  -1.  13.]\n",
      " [ 22.  13.  -5.  47.]\n",
      " [  5. -34.   6.  44.]\n",
      " [ 15.   8. -26.  29.]]\n",
      "\n",
      "Are my results equal to numpy? Yes.\n"
     ]
    }
   ],
   "source": [
    "def matrix_add(A, B):\n",
    "# =============================================================================\n",
    "#   Performs matrix addition on 2 numpy matrices: A and B.\n",
    "# =============================================================================\n",
    "    assert len(A.shape), \"A must be a matrix (2D numpy array.)\"\n",
    "    assert len(B.shape), \"B must be a matrix (2D numpy array.)\"\n",
    "    assert A.shape == B.shape, \"Matrices must be of the same shape.\"\n",
    "\n",
    "    m = A.shape[0]\n",
    "    n = A.shape[1]\n",
    "\n",
    "    sum = np.copy(A).astype(\"float64\")\n",
    "    \n",
    "    for i in range(m):\n",
    "        for j in range(n):\n",
    "            sum[i][j] += B[i][j]\n",
    "\n",
    "    return sum\n",
    "\n",
    "A = np.random.randint(-50, 50, size=(5, 4)).astype(\"float64\")\n",
    "B = np.random.randint(-50, 50, size=(5, 4)).astype(\"float64\")\n",
    "\n",
    "my_result = matrix_add(A, B)\n",
    "np_result = A + B\n",
    "\n",
    "print(\"-- A --\", A, sep=\"\\n\")\n",
    "print(\"\\n-- B --\", B, sep=\"\\n\")\n",
    "print(\"\\n-- My A + B --\", my_result, sep=\"\\n\")\n",
    "print(\"\\n-- Numpy A + B --\", np_result, sep=\"\\n\")\n",
    "print(\"\\nAre my results equal to numpy?\", \"Yes.\" if (my_result == np_result).all() else \"No.\")"
   ]
  },
  {
   "cell_type": "markdown",
   "metadata": {},
   "source": [
    "**2. Without the use of any python libraries or modules, develop a function that can multiply two numpy matrices.**"
   ]
  },
  {
   "cell_type": "code",
   "execution_count": 64,
   "metadata": {},
   "outputs": [
    {
     "name": "stdout",
     "output_type": "stream",
     "text": [
      "-- A --\n",
      "[[ 11.  16.  44.  -7.]\n",
      " [-21. -21. -36.  35.]\n",
      " [-17.  23.  -1.  -5.]\n",
      " [  4. -23. -50.  31.]\n",
      " [-33. -11.   0.  29.]]\n",
      "\n",
      "-- B --\n",
      "[[-14. -19.   0.  47.   3.]\n",
      " [-34.  28. -19.  -5. -25.]\n",
      " [-18. -19.  18.  44.  34.]\n",
      " [ 31.  39. -16. -32.  19.]]\n",
      "\n",
      "-- My A * B --\n",
      "[[-1707.  -870.   600.  2597.   996.]\n",
      " [ 2741.  1860.  -809. -3586.   -97.]\n",
      " [ -681.   791.  -375.  -798.  -755.]\n",
      " [ 2587.  1439.  -959. -2889.  -524.]\n",
      " [ 1735.  1450.  -255. -2424.   727.]]\n",
      "\n",
      "-- Numpy A * B --\n",
      "[[-1707.  -870.   600.  2597.   996.]\n",
      " [ 2741.  1860.  -809. -3586.   -97.]\n",
      " [ -681.   791.  -375.  -798.  -755.]\n",
      " [ 2587.  1439.  -959. -2889.  -524.]\n",
      " [ 1735.  1450.  -255. -2424.   727.]]\n",
      "\n",
      "Are my results equal to numpy? Yes.\n"
     ]
    }
   ],
   "source": [
    "def matrix_multiply(A, B):\n",
    "# =============================================================================\n",
    "#   Performs matrix multiplication on 2 numpy matrices: A and B.\n",
    "# =============================================================================\n",
    "    assert len(A.shape), \"A must be a matrix (2D numpy array.)\"\n",
    "    assert len(B.shape), \"B must be a matrix (2D numpy array.)\"\n",
    "    # A = m x s, B = s x n\n",
    "    assert A.shape[1] == B.shape[0], \"Columns of Matrix A must equal rows of matrix B.\"\n",
    "\n",
    "    m = A.shape[0]\n",
    "    s = A.shape[1]\n",
    "    n = B.shape[1]\n",
    "\n",
    "    product = np.zeros((m, n), dtype=\"float64\")\n",
    "\n",
    "    for i in range(m):\n",
    "        for j in range(n):\n",
    "            product[i][j] = sum(A[i][k] * B[k][j] for k in range(s))\n",
    "\n",
    "    return product\n",
    "\n",
    "A = np.random.randint(-50, 50, size=(5, 4)).astype(\"float64\")\n",
    "B = np.random.randint(-50, 50, size=(4, 5)).astype(\"float64\")\n",
    "\n",
    "my_result = matrix_multiply(A, B)\n",
    "np_result = np.matmul(A, B)\n",
    "\n",
    "print(\"-- A --\", A, sep=\"\\n\")\n",
    "print(\"\\n-- B --\", B, sep=\"\\n\")\n",
    "print(\"\\n-- My A * B --\", my_result, sep=\"\\n\")\n",
    "print(\"\\n-- Numpy A * B --\", np_result, sep=\"\\n\")\n",
    "print(\"\\nAre my results equal to numpy?\", \"Yes.\" if (my_result == np_result).all() else \"No.\")"
   ]
  },
  {
   "cell_type": "markdown",
   "metadata": {},
   "source": [
    "**3. The rule of distributivity states that given two matrices $A$ and $B$ and a scalar, $k$, then $k(A+B)=kA+kB$. Instead of writing a proof mathematically, develop two codes for $k(A+B)$ and $kA+kB$.**"
   ]
  },
  {
   "cell_type": "code",
   "execution_count": 65,
   "metadata": {},
   "outputs": [
    {
     "name": "stdout",
     "output_type": "stream",
     "text": [
      "-- k --\n",
      "9\n",
      "\n",
      "-- A --\n",
      "[[ 10.  -5.  -8.]\n",
      " [-15.  29. -38.]\n",
      " [  0.  -2. -38.]\n",
      " [-25.   4.  36.]]\n",
      "\n",
      "-- B --\n",
      "[[ 49.   7.   4.]\n",
      " [ 35. -22.  28.]\n",
      " [ 18.  44.  40.]\n",
      " [-11. -40.  33.]]\n",
      "\n",
      "-- k(A + B) --\n",
      "[[ 531.   18.  -36.]\n",
      " [ 180.   63.  -90.]\n",
      " [ 162.  378.   18.]\n",
      " [-324. -324.  621.]]\n",
      "\n",
      "-- kA + kB --\n",
      "[[ 531.   18.  -36.]\n",
      " [ 180.   63.  -90.]\n",
      " [ 162.  378.   18.]\n",
      " [-324. -324.  621.]]\n",
      "\n",
      "Are the results equal? Yes.\n"
     ]
    }
   ],
   "source": [
    "def matrix_scale(A, k):\n",
    "# =============================================================================\n",
    "#   Performs scalar multiplication on a numpy matrix A.\n",
    "# =============================================================================\n",
    "    assert len(A.shape), \"A must be a matrix (2D numpy array.)\"\n",
    "\n",
    "    m = A.shape[0]\n",
    "    n = A.shape[1]\n",
    "\n",
    "    scaled = np.copy(A).astype(\"float64\")\n",
    "\n",
    "    for i in range(m):\n",
    "        for j in range(n):\n",
    "            scaled[i][j] *= k\n",
    "\n",
    "    return scaled\n",
    "\n",
    "A = np.random.randint(-50, 50, size=(4, 3)).astype(\"float64\")\n",
    "B = np.random.randint(-50, 50, size=(4, 3)).astype(\"float64\")\n",
    "k = np.random.randint(-10, 10)\n",
    "\n",
    "# k(A + B)\n",
    "scalar_multiply_sum = matrix_scale(matrix_add(A, B), k)\n",
    "\n",
    "# kA + kB\n",
    "scalar_multiply_matrices_then_sum = matrix_add(matrix_scale(A, k), matrix_scale(B, k))\n",
    "\n",
    "print(\"-- k --\", k, sep=\"\\n\")\n",
    "print(\"\\n-- A --\", A, sep=\"\\n\")\n",
    "print(\"\\n-- B --\", B, sep=\"\\n\")\n",
    "print(\"\\n-- k(A + B) --\", scalar_multiply_sum, sep=\"\\n\")\n",
    "print(\"\\n-- kA + kB --\", scalar_multiply_matrices_then_sum, sep=\"\\n\")\n",
    "print(\"\\nAre the results equal?\", \"Yes.\" if (scalar_multiply_matrices_then_sum == scalar_multiply_sum).all() else \"No.\")"
   ]
  },
  {
   "cell_type": "markdown",
   "metadata": {},
   "source": [
    "**4. Without using a python library or modules develop a function that can extract the diagonal of a numpy matrix.**"
   ]
  },
  {
   "cell_type": "code",
   "execution_count": 66,
   "metadata": {},
   "outputs": [
    {
     "name": "stdout",
     "output_type": "stream",
     "text": [
      "-- A --\n",
      "[[  8.  29.   8.  28.]\n",
      " [  0. -34.  -5.  17.]\n",
      " [  1.  44.   0.  23.]\n",
      " [-14. -50.  14.  37.]\n",
      " [  4.  -2. -28. -39.]]\n",
      "\n",
      "-- My diag(A) --\n",
      "[  8. -34.   0.  37.]\n",
      "\n",
      "-- Numpy diag(A) --\n",
      "[  8. -34.   0.  37.]\n",
      "\n",
      "Are my results equal to numpy? Yes.\n"
     ]
    }
   ],
   "source": [
    "def matrix_diag(A):\n",
    "# =============================================================================\n",
    "#   Get the diagonal of a numpy matrix A.\n",
    "# =============================================================================\n",
    "    assert len(A.shape), \"A must be a matrix (2D numpy array.)\"\n",
    "\n",
    "    n = min(A.shape)\n",
    "    return np.array([A[i][i] for i in range(n)]).astype(\"float64\")\n",
    "\n",
    "A = np.random.randint(-50, 50, size=(5, 4)).astype(\"float64\")\n",
    "\n",
    "my_result = matrix_diag(A)\n",
    "np_result = np.diag(A)\n",
    "\n",
    "print(\"-- A --\", A, sep=\"\\n\")\n",
    "print(\"\\n-- My diag(A) --\", my_result, sep=\"\\n\")\n",
    "print(\"\\n-- Numpy diag(A) --\", np_result, sep=\"\\n\")\n",
    "print(\"\\nAre my results equal to numpy?\", \"Yes.\" if (my_result == np_result).all() else \"No.\")"
   ]
  },
  {
   "cell_type": "markdown",
   "metadata": {},
   "source": [
    "**5. Without using a python library or modules develop a function that can find a trace of a numpy matrix.**"
   ]
  },
  {
   "cell_type": "code",
   "execution_count": 67,
   "metadata": {},
   "outputs": [
    {
     "name": "stdout",
     "output_type": "stream",
     "text": [
      "-- A --\n",
      "[[ 39.  26.  13. -12.]\n",
      " [ 29.  25.  19.   9.]\n",
      " [-20. -49.  38.  39.]\n",
      " [ 21.  -5.  36.  49.]\n",
      " [ -3.  -6. -33.  11.]]\n",
      "\n",
      "-- My tr(A) --\n",
      "151.0\n",
      "\n",
      "-- Numpy tr(A) --\n",
      "151.0\n",
      "\n",
      "Are my results equal to numpy? Yes.\n"
     ]
    }
   ],
   "source": [
    "def matrix_trace(A):\n",
    "# =============================================================================\n",
    "#   Get the trace of a numpy matrix A.\n",
    "# =============================================================================\n",
    "    assert len(A.shape), \"A must be a matrix (2D numpy array.)\"\n",
    "    \n",
    "    n = min(A.shape)\n",
    "    return sum(A[i][i] for i in range(n))\n",
    "\n",
    "A = np.random.randint(-50, 50, size=(5, 4)).astype(\"float64\")\n",
    "\n",
    "my_result = matrix_trace(A)\n",
    "np_result = np.trace(A)\n",
    "\n",
    "print(\"-- A --\", A, sep=\"\\n\")\n",
    "print(\"\\n-- My tr(A) --\", my_result, sep=\"\\n\")\n",
    "print(\"\\n-- Numpy tr(A) --\", np_result, sep=\"\\n\")\n",
    "print(\"\\nAre my results equal to numpy?\", \"Yes.\" if (my_result == np_result).all() else \"No.\")"
   ]
  }
 ],
 "metadata": {
  "kernelspec": {
   "display_name": "Python 3",
   "language": "python",
   "name": "python3"
  },
  "language_info": {
   "codemirror_mode": {
    "name": "ipython",
    "version": 3
   },
   "file_extension": ".py",
   "mimetype": "text/x-python",
   "name": "python",
   "nbconvert_exporter": "python",
   "pygments_lexer": "ipython3",
   "version": "3.12.1"
  }
 },
 "nbformat": 4,
 "nbformat_minor": 2
}
